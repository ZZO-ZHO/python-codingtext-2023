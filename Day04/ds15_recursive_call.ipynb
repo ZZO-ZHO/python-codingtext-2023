{
 "cells": [
  {
   "attachments": {},
   "cell_type": "markdown",
   "metadata": {},
   "source": [
    "# 재귀호출 (Recursive Call)"
   ]
  },
  {
   "cell_type": "code",
   "execution_count": 21,
   "metadata": {},
   "outputs": [],
   "source": [
    "count = 10\n",
    "\n",
    "def openBox():\n",
    "    global count\n",
    "    print('종이상자를 엽니다.')\n",
    "    count -= 1\n",
    "    if count == 0:\n",
    "        print('반지를 넣고 반환합니다.')\n",
    "        return\n",
    "    \n",
    "    openBox()\n",
    "    print('종이상자를 닫습니다.')"
   ]
  },
  {
   "cell_type": "code",
   "execution_count": 22,
   "metadata": {},
   "outputs": [
    {
     "name": "stdout",
     "output_type": "stream",
     "text": [
      "종이상자를 엽니다.\n",
      "종이상자를 엽니다.\n",
      "종이상자를 엽니다.\n",
      "종이상자를 엽니다.\n",
      "종이상자를 엽니다.\n",
      "종이상자를 엽니다.\n",
      "종이상자를 엽니다.\n",
      "종이상자를 엽니다.\n",
      "종이상자를 엽니다.\n",
      "종이상자를 엽니다.\n",
      "반지를 넣고 반환합니다.\n",
      "종이상자를 닫습니다.\n",
      "종이상자를 닫습니다.\n",
      "종이상자를 닫습니다.\n",
      "종이상자를 닫습니다.\n",
      "종이상자를 닫습니다.\n",
      "종이상자를 닫습니다.\n",
      "종이상자를 닫습니다.\n",
      "종이상자를 닫습니다.\n",
      "종이상자를 닫습니다.\n"
     ]
    }
   ],
   "source": [
    "openBox()"
   ]
  },
  {
   "cell_type": "markdown",
   "metadata": {},
   "source": [
    "## 재귀호출 하지않고 반목문으로 계산"
   ]
  },
  {
   "cell_type": "code",
   "execution_count": 25,
   "metadata": {},
   "outputs": [
    {
     "name": "stdout",
     "output_type": "stream",
     "text": [
      "10 + 9 + 8 + ... + 1 =  55\n"
     ]
    }
   ],
   "source": [
    "sumValue = 0\n",
    "\n",
    "for n in range(10, 0, -1):\n",
    "    sumValue += n\n",
    "\n",
    "print('10 + 9 + 8 + ... + 1 = ', sumValue)"
   ]
  },
  {
   "attachments": {},
   "cell_type": "markdown",
   "metadata": {},
   "source": [
    "### 재귀호출로 덧셈"
   ]
  },
  {
   "cell_type": "code",
   "execution_count": 53,
   "metadata": {},
   "outputs": [
    {
     "name": "stdout",
     "output_type": "stream",
     "text": [
      "55\n"
     ]
    }
   ],
   "source": [
    "def addNumber(num):\n",
    "    if num <= 1:\n",
    "        return 1\n",
    "    else:\n",
    "        return num + addNumber(num - 1)\n",
    "    \n",
    "print(addNumber(10))"
   ]
  },
  {
   "attachments": {},
   "cell_type": "markdown",
   "metadata": {},
   "source": [
    "### 팩토리얼 반복문"
   ]
  },
  {
   "cell_type": "code",
   "execution_count": 59,
   "metadata": {},
   "outputs": [
    {
     "name": "stdout",
     "output_type": "stream",
     "text": [
      "10 x 9 x 8 x ... x 2 x 1 = 120\n"
     ]
    }
   ],
   "source": [
    "factValue = 1\n",
    "for n in range(5, 0, -1):\n",
    "    factValue *= n\n",
    "\n",
    "print('10 x 9 x 8 x ... x 2 x 1 =',factValue)"
   ]
  },
  {
   "attachments": {},
   "cell_type": "markdown",
   "metadata": {},
   "source": [
    "### 팩토리얼 재귀호출"
   ]
  },
  {
   "cell_type": "code",
   "execution_count": 60,
   "metadata": {},
   "outputs": [
    {
     "name": "stdout",
     "output_type": "stream",
     "text": [
      " 10! = 3628800\n"
     ]
    }
   ],
   "source": [
    "def factoreal(num):\n",
    "    if num <= 1:\n",
    "        return 1 \n",
    "    else:\n",
    "        return num * factoreal(num -1)\n",
    "print(' 10! =',factoreal(10))"
   ]
  },
  {
   "attachments": {},
   "cell_type": "markdown",
   "metadata": {},
   "source": [
    "### 우주선 발사"
   ]
  },
  {
   "cell_type": "code",
   "execution_count": 63,
   "metadata": {},
   "outputs": [
    {
     "name": "stdout",
     "output_type": "stream",
     "text": [
      "10\n",
      "9\n",
      "8\n",
      "7\n",
      "6\n",
      "5\n",
      "4\n",
      "3\n",
      "2\n",
      "1\n",
      "우주선 발사\n"
     ]
    }
   ],
   "source": [
    "import time\n",
    "\n",
    "def countdown(n):\n",
    "    if n == 0:\n",
    "        print('우주선 발사')\n",
    "    else:\n",
    "        print(n)\n",
    "        time.sleep(1)\n",
    "        countdown(n-1)\n",
    "\n",
    "countdown(10)"
   ]
  },
  {
   "cell_type": "code",
   "execution_count": 64,
   "metadata": {},
   "outputs": [
    {
     "name": "stdout",
     "output_type": "stream",
     "text": [
      "*\n",
      "**\n",
      "***\n",
      "****\n",
      "*****\n"
     ]
    }
   ],
   "source": [
    "def printstar(n):\n",
    "    if n > 0:\n",
    "        printstar(n-1)\n",
    "        print('*' * n)\n",
    "\n",
    "printstar(5)"
   ]
  },
  {
   "attachments": {},
   "cell_type": "markdown",
   "metadata": {},
   "source": [
    "### 구구단 재귀호출"
   ]
  },
  {
   "cell_type": "code",
   "execution_count": 8,
   "metadata": {},
   "outputs": [
    {
     "name": "stdout",
     "output_type": "stream",
     "text": [
      "\n",
      "\n",
      "< 2단 시작 >\n",
      "2 x 1 =  2\t2 x 2 =  4\t2 x 3 =  6\t2 x 4 =  8\t2 x 5 = 10\t2 x 6 = 12\t2 x 7 = 14\t2 x 8 = 16\t2 x 9 = 18\t\n",
      "\n",
      "< 3단 시작 >\n",
      "3 x 1 =  3\t3 x 2 =  6\t3 x 3 =  9\t3 x 4 = 12\t3 x 5 = 15\t3 x 6 = 18\t3 x 7 = 21\t3 x 8 = 24\t3 x 9 = 27\t\n",
      "\n",
      "< 4단 시작 >\n",
      "4 x 1 =  4\t4 x 2 =  8\t4 x 3 = 12\t4 x 4 = 16\t4 x 5 = 20\t4 x 6 = 24\t4 x 7 = 28\t4 x 8 = 32\t4 x 9 = 36\t\n",
      "\n",
      "< 5단 시작 >\n",
      "5 x 1 =  5\t5 x 2 = 10\t5 x 3 = 15\t5 x 4 = 20\t5 x 5 = 25\t5 x 6 = 30\t5 x 7 = 35\t5 x 8 = 40\t5 x 9 = 45\t\n",
      "\n",
      "< 6단 시작 >\n",
      "6 x 1 =  6\t6 x 2 = 12\t6 x 3 = 18\t6 x 4 = 24\t6 x 5 = 30\t6 x 6 = 36\t6 x 7 = 42\t6 x 8 = 48\t6 x 9 = 54\t\n",
      "\n",
      "< 7단 시작 >\n",
      "7 x 1 =  7\t7 x 2 = 14\t7 x 3 = 21\t7 x 4 = 28\t7 x 5 = 35\t7 x 6 = 42\t7 x 7 = 49\t7 x 8 = 56\t7 x 9 = 63\t\n",
      "\n",
      "< 8단 시작 >\n",
      "8 x 1 =  8\t8 x 2 = 16\t8 x 3 = 24\t8 x 4 = 32\t8 x 5 = 40\t8 x 6 = 48\t8 x 7 = 56\t8 x 8 = 64\t8 x 9 = 72\t\n",
      "\n",
      "< 9단 시작 >\n",
      "9 x 1 =  9\t9 x 2 = 18\t9 x 3 = 27\t9 x 4 = 36\t9 x 5 = 45\t9 x 6 = 54\t9 x 7 = 63\t9 x 8 = 72\t9 x 9 = 81\t"
     ]
    }
   ],
   "source": [
    "def gugudan(dan, num):\n",
    "    print(f'{dan} x {num} = {dan*num:2d}', end = '\\t')\n",
    "    if num < 9:\n",
    "        gugudan(dan, num+1)\n",
    "\n",
    "for dan in range(2,10):\n",
    "    print(f'\\n\\n< {dan}단 시작 >')\n",
    "    gugudan(dan,1)"
   ]
  },
  {
   "attachments": {},
   "cell_type": "markdown",
   "metadata": {},
   "source": [
    "### N제곱"
   ]
  },
  {
   "cell_type": "code",
   "execution_count": null,
   "metadata": {},
   "outputs": [],
   "source": [
    "tab = ''\n",
    "\n",
    "def pow(x, n):\n",
    "    global tab\n",
    "    tab += ' '\n",
    "    if n == 0:\n",
    "        return 1\n",
    "    print(tab, f'{x}x{x}^{n}-{1}')\n",
    "    return x * pow(x, 10)\n",
    "\n",
    "print('2^10')\n",
    "print('답 --> ', pow(2,10))"
   ]
  },
  {
   "attachments": {},
   "cell_type": "markdown",
   "metadata": {},
   "source": [
    "### 피보나치 수열"
   ]
  },
  {
   "cell_type": "code",
   "execution_count": 10,
   "metadata": {},
   "outputs": [
    {
     "name": "stdout",
     "output_type": "stream",
     "text": [
      "피보나치수 --> 0 1  1 2 3 5 8 13 21 34 "
     ]
    }
   ],
   "source": [
    "def fibonacci(n):\n",
    "    if n == 0: return 0 \n",
    "    elif n == 1: return 1\n",
    "    else:\n",
    "        return fibonacci(n-1) + fibonacci(n-2)\n",
    "    \n",
    "print('피보나치수 --> 0 1 ', end = ' ')\n",
    "for i in range(2,10):\n",
    "    print(fibonacci(i), end = ' ')"
   ]
  },
  {
   "attachments": {},
   "cell_type": "markdown",
   "metadata": {},
   "source": [
    "### 회문여부"
   ]
  },
  {
   "cell_type": "code",
   "execution_count": 14,
   "metadata": {},
   "outputs": [],
   "source": [
    "def palindrome(pStr):\n",
    "    if len(pStr) <= 1:\n",
    "        return True\n",
    "    \n",
    "    if pStr[0] != pStr[-1]:\n",
    "        return False\n",
    "    else:\n",
    "        return palindrome(pStr[1:len(pStr)-1])\n"
   ]
  },
  {
   "cell_type": "code",
   "execution_count": 15,
   "metadata": {},
   "outputs": [],
   "source": [
    "strAry = ['reaver','kayak','Borrow or rob', '주유소의소유주']"
   ]
  },
  {
   "cell_type": "code",
   "execution_count": 16,
   "metadata": {},
   "outputs": [
    {
     "name": "stdout",
     "output_type": "stream",
     "text": [
      "reaver --> 회문이 아닙니다.\n",
      "kayak --> 회문입니다\n",
      "Borrow or rob --> 회문입니다\n",
      "주유소의소유주 --> 회문입니다\n"
     ]
    }
   ],
   "source": [
    "for testStr in strAry:\n",
    "    print(testStr,end = ' --> ')\n",
    "    testStr = testStr.lower().replace(' ','')\n",
    "    if palindrome(testStr) == True:\n",
    "        print('회문입니다')\n",
    "    else:\n",
    "        print('회문이 아닙니다.')\n"
   ]
  }
 ],
 "metadata": {
  "kernelspec": {
   "display_name": "Python 3",
   "language": "python",
   "name": "python3"
  },
  "language_info": {
   "codemirror_mode": {
    "name": "ipython",
    "version": 3
   },
   "file_extension": ".py",
   "mimetype": "text/x-python",
   "name": "python",
   "nbconvert_exporter": "python",
   "pygments_lexer": "ipython3",
   "version": "3.11.1"
  },
  "orig_nbformat": 4,
  "vscode": {
   "interpreter": {
    "hash": "a3d8f53f1429d27b792a3789224562ddd32c1395c9a9cfbb17b3c19c3b9a493d"
   }
  }
 },
 "nbformat": 4,
 "nbformat_minor": 2
}
