{
 "cells": [
  {
   "attachments": {},
   "cell_type": "markdown",
   "metadata": {},
   "source": [
    "## 선택정렬\n",
    "최소값 위치 확인 함수"
   ]
  },
  {
   "cell_type": "code",
   "execution_count": 9,
   "metadata": {},
   "outputs": [],
   "source": [
    "def findMinIdx(ary):\n",
    "    minIdx = 0 # 배열 0부터\n",
    "    for i in range(1,len(ary)):\n",
    "        if (ary[minIdx] > ary[i]):  #지정된 값이 배열의 현재값보다 크면 교체\n",
    "            minIdx = i\n",
    "\n",
    "    return minIdx\n"
   ]
  },
  {
   "cell_type": "code",
   "execution_count": 10,
   "metadata": {},
   "outputs": [
    {
     "name": "stdout",
     "output_type": "stream",
     "text": [
      "2\n"
     ]
    }
   ],
   "source": [
    "tests = [55, 88, 33, 77]\n",
    "print(findMinIdx(tests))"
   ]
  },
  {
   "attachments": {},
   "cell_type": "markdown",
   "metadata": {},
   "source": [
    "### 선택정렬 전체"
   ]
  },
  {
   "cell_type": "code",
   "execution_count": 11,
   "metadata": {},
   "outputs": [
    {
     "name": "stdout",
     "output_type": "stream",
     "text": [
      "정렬 전 ->  [188, 162, 168, 120, 50, 150, 177, 105]\n",
      "정렬 후 ->  [50, 105, 120, 150, 162, 168, 177, 188]\n"
     ]
    }
   ],
   "source": [
    "# 변수선언\n",
    "before = [188, 162, 168, 120, 50, 150, 177, 105]\n",
    "after = []\n",
    "print('정렬 전 -> ',before)\n",
    "for _ in range(len(before)):\n",
    "    minPos = findMinIdx(before)\n",
    "    after.append(before[minPos])\n",
    "    del(before[minPos]) #최소값을 삭제\n",
    "\n",
    "print('정렬 후 -> ', after)\n"
   ]
  },
  {
   "cell_type": "code",
   "execution_count": 15,
   "metadata": {},
   "outputs": [],
   "source": [
    "import random\n",
    "\n",
    "databank = []\n",
    "\n",
    "for i in range(0,10000):\n",
    "    databank.append(random.randint(0,10000))"
   ]
  },
  {
   "cell_type": "code",
   "execution_count": null,
   "metadata": {},
   "outputs": [],
   "source": [
    "print(databank)"
   ]
  },
  {
   "attachments": {},
   "cell_type": "markdown",
   "metadata": {},
   "source": [
    "#### 개선된 선택정렬\n",
    "\n",
    "배열을 두개 만을 필요없음\n",
    "값교환 swap기능 학습"
   ]
  },
  {
   "cell_type": "code",
   "execution_count": 14,
   "metadata": {},
   "outputs": [
    {
     "name": "stdout",
     "output_type": "stream",
     "text": [
      "정렬 전 ->  [188, 162, 168, 120, 20, 150, 177, 105]\n",
      "정렬 후 ->  [20, 105, 120, 150, 162, 168, 177, 188]\n"
     ]
    }
   ],
   "source": [
    "def selectionSort(ary):\n",
    "    n = len(ary)\n",
    "    for i in range(0, n-1):\n",
    "        minIdx = i\n",
    "        for k in range(i+1, n):\n",
    "            if ary[minIdx] > ary[k]:\n",
    "                minIdx = k\n",
    "        temp = ary[i]\n",
    "        ary[i] = ary[minIdx]\n",
    "        ary[minIdx] = temp\n",
    "\n",
    "    return ary\n",
    "\n",
    "## 변수\n",
    "dataAry =  [188, 162, 168, 120, 20, 150, 177, 105]\n",
    "print('정렬 전 -> ',dataAry)\n",
    "dataAry = selectionSort(dataAry)\n",
    "print('정렬 후 -> ', dataAry)"
   ]
  },
  {
   "attachments": {},
   "cell_type": "markdown",
   "metadata": {},
   "source": [
    "### 삽입정렬 Insertion Sort\n",
    "자신의 삽입위치를 찾는 함수"
   ]
  },
  {
   "cell_type": "markdown",
   "metadata": {},
   "source": []
  },
  {
   "cell_type": "code",
   "execution_count": 16,
   "metadata": {},
   "outputs": [],
   "source": [
    "def findInsertIdx(ary,data):\n",
    "    findIdx = -1\n",
    "    for i in range(0, len(ary)):\n",
    "        if ary[i] > data:\n",
    "            findIdx = i\n",
    "            break\n",
    "    if findIdx == -1:\n",
    "        return len(ary)\n",
    "    else:\n",
    "        return (findIdx)"
   ]
  },
  {
   "cell_type": "code",
   "execution_count": 18,
   "metadata": {},
   "outputs": [
    {
     "name": "stdout",
     "output_type": "stream",
     "text": [
      "50이 들어갈 위치 0\n",
      "55가 들어갈 위치 1\n"
     ]
    }
   ],
   "source": [
    "testAry = []\n",
    "print('50이 들어갈 위치', findInsertIdx(testAry, 50))\n",
    "testAry = [33, 77, 88]\n",
    "print('55가 들어갈 위치', findInsertIdx(testAry, 55))"
   ]
  },
  {
   "cell_type": "code",
   "execution_count": 22,
   "metadata": {},
   "outputs": [
    {
     "name": "stdout",
     "output_type": "stream",
     "text": [
      "정렬 전 ->  [188, 162, 168, 120, 20, 150, 177, 105]\n",
      "정렬 후 ->  [20, 105, 120, 150, 162, 168, 177, 188]\n",
      "원본    ->  [188, 162, 168, 120, 20, 150, 177, 105]\n"
     ]
    }
   ],
   "source": [
    "before =  [188, 162, 168, 120, 20, 150, 177, 105]\n",
    "after = []\n",
    "\n",
    "print('정렬 전 -> ',before)\n",
    "for i in range(len(before)):\n",
    "    data = before[i]\n",
    "    idx = findInsertIdx(after, data)\n",
    "    after.insert(idx, data)\n",
    "print('정렬 후 -> ', after)\n",
    "print('원본    -> ', before)"
   ]
  },
  {
   "attachments": {},
   "cell_type": "markdown",
   "metadata": {},
   "source": [
    "## 삽입정렬 개선"
   ]
  },
  {
   "cell_type": "code",
   "execution_count": 19,
   "metadata": {},
   "outputs": [
    {
     "name": "stdout",
     "output_type": "stream",
     "text": [
      "정렬 전 ->  [188, 162, 168, 120, 20, 150, 177, 105]\n",
      "정렬 후 ->  [20, 105, 120, 150, 162, 168, 177, 188]\n"
     ]
    }
   ],
   "source": [
    "def insertionSort(ary):\n",
    "    n = len(ary)\n",
    "    for end in range(1, n):\n",
    "        for cur in range(end, 0, -1):\n",
    "            if ary[cur-1] > ary[cur]:\n",
    "                temp = ary[cur-1]\n",
    "                ary[cur-1] = ary[cur]\n",
    "                ary[cur] = temp\n",
    "    return ary\n",
    "dataAry = [188, 162, 168, 120, 20, 150, 177, 105]\n",
    "\n",
    "print('정렬 전 -> ',dataAry)\n",
    "dataAry = insertionSort(dataAry)\n",
    "print('정렬 후 -> ', dataAry)"
   ]
  },
  {
   "attachments": {},
   "cell_type": "markdown",
   "metadata": {},
   "source": [
    "### 버블 정렬(bubble Sort)"
   ]
  },
  {
   "cell_type": "code",
   "execution_count": 5,
   "metadata": {},
   "outputs": [
    {
     "name": "stdout",
     "output_type": "stream",
     "text": [
      "정렬 전 ->  [190, 162, 168, 120, 20, 150, 177, 105]\n",
      "사이클  ->  [190, 162, 168, 120, 20, 150, 177, 105]\n",
      "사이클  ->  [162, 168, 120, 20, 150, 177, 105, 190]\n",
      "사이클  ->  [162, 120, 20, 150, 168, 105, 177, 190]\n",
      "사이클  ->  [120, 20, 150, 162, 105, 168, 177, 190]\n",
      "사이클  ->  [20, 120, 150, 105, 162, 168, 177, 190]\n",
      "사이클  ->  [20, 120, 105, 150, 162, 168, 177, 190]\n",
      "사이클  ->  [20, 105, 120, 150, 162, 168, 177, 190]\n",
      "정렬 후 ->  [20, 105, 120, 150, 162, 168, 177, 190]\n"
     ]
    }
   ],
   "source": [
    "def BubbleSort(ary):\n",
    "    n = len(ary)\n",
    "    for end in range(n-1, 0, -1):   # n-1번쨰 부터 0까지 역순\n",
    "        print('사이클  -> ', ary)\n",
    "        for cur in range(0, end):   # 0부터 n-2까지 반복\n",
    "            if ary[cur] > ary[cur+1]:\n",
    "                ary[cur], ary[cur+1] = ary[cur+1], ary[cur]\n",
    "\n",
    "    return ary\n",
    "\n",
    "dataAry = [190, 162, 168, 120, 20, 150, 177, 105]\n",
    "\n",
    "print('정렬 전 -> ',databank)\n",
    "dataAry = BubbleSort(dataAry)\n",
    "print('정렬 후 -> ', dataAry)"
   ]
  },
  {
   "attachments": {},
   "cell_type": "markdown",
   "metadata": {},
   "source": [
    "### 퀵 정렬(Quick Sort)"
   ]
  },
  {
   "cell_type": "code",
   "execution_count": 10,
   "metadata": {},
   "outputs": [
    {
     "name": "stdout",
     "output_type": "stream",
     "text": [
      "정렬 전 ->  [190, 162, 168, 120, 20, 150, 177, 105, 120]\n",
      "정렬 후 ->  [20, 105, 120, 120, 150, 162, 168, 177, 190]\n"
     ]
    }
   ],
   "source": [
    "def QuickSort(ary):\n",
    "    n = len(ary)\n",
    "    if n <= 1:      # 정렬개수가 1 이하면\n",
    "        return ary\n",
    "    \n",
    "    pivot = ary[n//2]   # 중앙값을 기준값으로\n",
    "    leftAry, rightAry, midAry = [], [], []\n",
    "\n",
    "    for num in ary:\n",
    "        if num < pivot:\n",
    "            leftAry.append(num)\n",
    "        elif num > pivot:\n",
    "            rightAry.append(num)\n",
    "        else:\n",
    "            midAry.append(num)      # 중복고려\n",
    "\n",
    "    return QuickSort(leftAry) + midAry + QuickSort(rightAry)\n",
    "\n",
    "dataAry = [190, 162, 168, 120, 20, 150, 177, 105, 120]\n",
    "\n",
    "print('정렬 전 -> ',dataAry)\n",
    "dataAry = QuickSort(dataAry)\n",
    "print('정렬 후 -> ', dataAry)"
   ]
  }
 ],
 "metadata": {
  "kernelspec": {
   "display_name": "Python 3",
   "language": "python",
   "name": "python3"
  },
  "language_info": {
   "codemirror_mode": {
    "name": "ipython",
    "version": 3
   },
   "file_extension": ".py",
   "mimetype": "text/x-python",
   "name": "python",
   "nbconvert_exporter": "python",
   "pygments_lexer": "ipython3",
   "version": "3.11.1"
  },
  "orig_nbformat": 4,
  "vscode": {
   "interpreter": {
    "hash": "a3d8f53f1429d27b792a3789224562ddd32c1395c9a9cfbb17b3c19c3b9a493d"
   }
  }
 },
 "nbformat": 4,
 "nbformat_minor": 2
}
