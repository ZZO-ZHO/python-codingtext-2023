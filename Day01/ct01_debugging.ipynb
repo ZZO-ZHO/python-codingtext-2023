{
 "cells": [
  {
   "attachments": {},
   "cell_type": "markdown",
   "metadata": {},
   "source": [
    "# 코딩테스트중 실수 네가지\n",
    "\n",
    "## 결함있는 코드"
   ]
  },
  {
   "cell_type": "code",
   "execution_count": null,
   "metadata": {},
   "outputs": [],
   "source": [
    "# 배열에 주어진 번위의 합을 2로 나눈 몫을 구하세요\n",
    "import random\n",
    "\n",
    "testcase = int(input())\n",
    "answer = 0\n",
    "A = [0] * 100001\n",
    "\n",
    "for i in range(0, 100001):\n",
    "    A[i] = random.randrange(1,101)\n",
    "\n",
    "for t in range(1, testcase+1):\n",
    "    start, end = map(int, input().split())\n",
    "\n",
    "    for i in range(start, end+1):\n",
    "        answer = answer + A[i]\n",
    "    # 4. 결과값이 정수로 나오려면 / 대신 //로 변경\n",
    "    print(f'{str(testcase)} = {str(answer/2)}')\n"
   ]
  },
  {
   "attachments": {},
   "cell_type": "markdown",
   "metadata": {},
   "source": [
    "##  예외 1\n",
    "answer 초기화를 안함\n",
    "\n",
    "##  예외 2\n",
    "배열의 범위를 잘못 입력\n",
    "\n",
    "##  예외 3\n",
    "변수 잘못사용\n",
    "\n",
    "##  예외 4\n",
    "형변환 떄문에 정수로 나올것이 실수로 나옴"
   ]
  }
 ],
 "metadata": {
  "kernelspec": {
   "display_name": "Python 3",
   "language": "python",
   "name": "python3"
  },
  "language_info": {
   "codemirror_mode": {
    "name": "ipython",
    "version": 3
   },
   "file_extension": ".py",
   "mimetype": "text/x-python",
   "name": "python",
   "nbconvert_exporter": "python",
   "pygments_lexer": "ipython3",
   "version": "3.11.1"
  },
  "orig_nbformat": 4,
  "vscode": {
   "interpreter": {
    "hash": "a3d8f53f1429d27b792a3789224562ddd32c1395c9a9cfbb17b3c19c3b9a493d"
   }
  }
 },
 "nbformat": 4,
 "nbformat_minor": 2
}
