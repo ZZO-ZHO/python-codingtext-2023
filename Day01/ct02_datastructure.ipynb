{
 "cells": [
  {
   "attachments": {},
   "cell_type": "markdown",
   "metadata": {},
   "source": [
    "# 자료의 구조\n",
    "숫자의 합 -백준 11720"
   ]
  },
  {
   "cell_type": "code",
   "execution_count": 4,
   "metadata": {},
   "outputs": [
    {
     "name": "stdout",
     "output_type": "stream",
     "text": [
      "15\n"
     ]
    }
   ],
   "source": [
    "n = int(input())\n",
    "number = list(input())\n",
    "sum = 0\n",
    "\n",
    "for i in number:\n",
    "        sum += int(i)\n",
    "\n",
    "print(sum)\n"
   ]
  },
  {
   "attachments": {},
   "cell_type": "markdown",
   "metadata": {},
   "source": [
    "평균 구하기 -백준 1546"
   ]
  },
  {
   "cell_type": "code",
   "execution_count": 11,
   "metadata": {},
   "outputs": [
    {
     "name": "stdout",
     "output_type": "stream",
     "text": [
      "75.25\n"
     ]
    }
   ],
   "source": [
    "n = int(input())    # 과목수\n",
    "mytest = list(map(int,input().split()))\n",
    "max_point = max(mytest)\n",
    "mysum = 0\n",
    "\n",
    "for i in mytest:\n",
    "    mysum += i\n",
    "print(mysum * 100 / max_point / n)"
   ]
  },
  {
   "attachments": {},
   "cell_type": "markdown",
   "metadata": {},
   "source": [
    "평균 구하기 -백준 11659"
   ]
  },
  {
   "cell_type": "code",
   "execution_count": null,
   "metadata": {},
   "outputs": [],
   "source": [
    "import sys\n",
    "input = sys.stdin.readline\n",
    "\n",
    "N, M = tuple(map(int, input().split()))\n",
    "numbers = list(map(int, input().split()))\n",
    "sums = [0]\n",
    "temp = 0\n",
    "\n",
    "for i in numbers:\n",
    "    temp = temp + i\n",
    "    sums.append(temp)\n",
    "\n",
    "for i in range(M):\n",
    "    x, y = tuple(map(int, input().split()))\n",
    "    print(sums[y] - sums[x - 1])\n",
    "    "
   ]
  }
 ],
 "metadata": {
  "kernelspec": {
   "display_name": "Python 3",
   "language": "python",
   "name": "python3"
  },
  "language_info": {
   "codemirror_mode": {
    "name": "ipython",
    "version": 3
   },
   "file_extension": ".py",
   "mimetype": "text/x-python",
   "name": "python",
   "nbconvert_exporter": "python",
   "pygments_lexer": "ipython3",
   "version": "3.11.1"
  },
  "orig_nbformat": 4,
  "vscode": {
   "interpreter": {
    "hash": "a3d8f53f1429d27b792a3789224562ddd32c1395c9a9cfbb17b3c19c3b9a493d"
   }
  }
 },
 "nbformat": 4,
 "nbformat_minor": 2
}
