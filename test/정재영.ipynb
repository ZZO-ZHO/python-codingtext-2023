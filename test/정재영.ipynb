{
 "cells": [
  {
   "attachments": {},
   "cell_type": "markdown",
   "metadata": {},
   "source": [
    "## 1번 - 카드뭉치"
   ]
  },
  {
   "cell_type": "code",
   "execution_count": 20,
   "metadata": {},
   "outputs": [
    {
     "data": {
      "text/plain": [
       "''"
      ]
     },
     "execution_count": 20,
     "metadata": {},
     "output_type": "execute_result"
    }
   ],
   "source": [
    "def solution(cards1, cards2, goal):\n",
    "    answer = 'Yes'\n",
    "    \n",
    "    i, j = 0, 0         # 카드 배열 선언\n",
    "    \n",
    "    for word in goal:\n",
    "        if len(cards1) > i and word == cards1[i]:       # 배열내의 i번째와 단어와 동일할경우\n",
    "            i += 1                                      # 다음번째로 이동\n",
    "        elif len(cards2) > j and word == cards2[j]:\n",
    "            j += 1\n",
    "        else:\n",
    "            answer = \"No\"                               # 두개의 카드뭉치중 원하는 단어가 없을경우 NO리턴\n",
    "            break\n",
    "    \n",
    "    return answer"
   ]
  },
  {
   "attachments": {},
   "cell_type": "markdown",
   "metadata": {},
   "source": [
    "## 2번 - 체육복"
   ]
  },
  {
   "cell_type": "code",
   "execution_count": 18,
   "metadata": {},
   "outputs": [],
   "source": [
    "def solution(n, lost, reserve):\n",
    "    \n",
    "    set_lost = set(lost) - set(reserve)                 # 여벌이있지만 도난당한 경우 제거\n",
    "    set_reserve = set(reserve) - set(lost)\n",
    "\n",
    "    for i in set_reserve:\n",
    "        if i-1 in set_lost:                             # 앞번호가 도난당한 경우\n",
    "            set_lost.remove(i-1)                        # 여벌로 도난 상쇄\n",
    "\n",
    "        elif i+1 in set_lost:                           # 뒷번호가 도난당한 경우\n",
    "            set_lost.remove(i+1)                        # 여벌로 도난 상쇄\n",
    "\n",
    "            \n",
    "    return n - len(set_lost)                            # 전체에서 남아있는 도난당한 경우 제거"
   ]
  }
 ],
 "metadata": {
  "kernelspec": {
   "display_name": "Python 3",
   "language": "python",
   "name": "python3"
  },
  "language_info": {
   "codemirror_mode": {
    "name": "ipython",
    "version": 3
   },
   "file_extension": ".py",
   "mimetype": "text/x-python",
   "name": "python",
   "nbconvert_exporter": "python",
   "pygments_lexer": "ipython3",
   "version": "3.11.1"
  },
  "orig_nbformat": 4,
  "vscode": {
   "interpreter": {
    "hash": "a3d8f53f1429d27b792a3789224562ddd32c1395c9a9cfbb17b3c19c3b9a493d"
   }
  }
 },
 "nbformat": 4,
 "nbformat_minor": 2
}
