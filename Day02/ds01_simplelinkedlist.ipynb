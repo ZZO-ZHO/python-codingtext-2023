{
 "cells": [
  {
   "attachments": {},
   "cell_type": "markdown",
   "metadata": {},
   "source": [
    "## 단순 열결 리스트\n",
    "노드생성"
   ]
  },
  {
   "cell_type": "code",
   "execution_count": 43,
   "metadata": {},
   "outputs": [],
   "source": [
    "class Node:\n",
    "    def __init__(self) -> None:\n",
    "        self.data = None    # 현재 값\n",
    "        self.link = None    # 다음 노드가리킴\n",
    "\n",
    "    def __str__(self) -> str:\n",
    "        return f'{self.data}'"
   ]
  },
  {
   "attachments": {},
   "cell_type": "markdown",
   "metadata": {},
   "source": [
    "첫번쨰 노드 생성"
   ]
  },
  {
   "cell_type": "code",
   "execution_count": 44,
   "metadata": {},
   "outputs": [
    {
     "name": "stdout",
     "output_type": "stream",
     "text": [
      "다현\n"
     ]
    }
   ],
   "source": [
    "node1 = Node()\n",
    "node1.data = '다현'\n",
    "\n",
    "print(node1)"
   ]
  },
  {
   "attachments": {},
   "cell_type": "markdown",
   "metadata": {},
   "source": [
    "두번쨰 노드 생성"
   ]
  },
  {
   "cell_type": "code",
   "execution_count": 45,
   "metadata": {},
   "outputs": [
    {
     "name": "stdout",
     "output_type": "stream",
     "text": [
      "정연\n"
     ]
    }
   ],
   "source": [
    "node2 = Node()\n",
    "node2.data = '정연'\n",
    "node1.link = node2\n",
    "\n",
    "print(node2)"
   ]
  },
  {
   "attachments": {},
   "cell_type": "markdown",
   "metadata": {},
   "source": [
    "3번 노드부터 계속"
   ]
  },
  {
   "cell_type": "code",
   "execution_count": 46,
   "metadata": {},
   "outputs": [],
   "source": [
    "node3 = Node()\n",
    "node3.data = '쯔위'\n",
    "node2.link = node3\n",
    "\n",
    "node4 = Node()\n",
    "node4.data = '사나'\n",
    "node3.link = node4\n",
    "\n",
    "node5 = Node()\n",
    "node5.data = '지효'\n",
    "node4.link = node5"
   ]
  },
  {
   "attachments": {},
   "cell_type": "markdown",
   "metadata": {},
   "source": [
    "### 연결리스트 출력"
   ]
  },
  {
   "cell_type": "code",
   "execution_count": 47,
   "metadata": {},
   "outputs": [
    {
     "name": "stdout",
     "output_type": "stream",
     "text": [
      "다현 -> 정연 -> 쯔위 -> 사나 -> 지효\n"
     ]
    }
   ],
   "source": [
    "print(node1.data, end = ' -> ')\n",
    "print(node1.link.data, end = ' -> ')\n",
    "print(node1.link.link.data, end = ' -> ')\n",
    "print(node1.link.link.link.data, end = ' -> ')\n",
    "print(node1.link.link.link.link.data)"
   ]
  },
  {
   "attachments": {},
   "cell_type": "markdown",
   "metadata": {},
   "source": [
    "### 연결리스트 미사용 출력"
   ]
  },
  {
   "cell_type": "code",
   "execution_count": 48,
   "metadata": {},
   "outputs": [
    {
     "name": "stdout",
     "output_type": "stream",
     "text": [
      "다현 , 정연 , 쯔위 , 사나 , 지효\n"
     ]
    }
   ],
   "source": [
    "print(node1.data, end = ' , ')\n",
    "print(node2.data, end = ' , ')\n",
    "print(node3.data, end = ' , ')\n",
    "print(node4.data, end = ' , ')\n",
    "print(node5.data)"
   ]
  },
  {
   "attachments": {},
   "cell_type": "markdown",
   "metadata": {},
   "source": [
    "### 연결리스트 출력로직"
   ]
  },
  {
   "cell_type": "code",
   "execution_count": 55,
   "metadata": {},
   "outputs": [
    {
     "name": "stdout",
     "output_type": "stream",
     "text": [
      "다현 -> 정연 -> 재남 -> 사나 -> 지효\n"
     ]
    }
   ],
   "source": [
    "current = node1\n",
    "print(current.data, end = ' -> ')\n",
    "while current.link != None:\n",
    "    current = current.link\n",
    "    if current.link == None:\n",
    "        print(current.data)\n",
    "    else:\n",
    "        print(current.data,end=' -> ')"
   ]
  },
  {
   "attachments": {},
   "cell_type": "markdown",
   "metadata": {},
   "source": [
    "### 연결리스트에 새 노드 삽입"
   ]
  },
  {
   "cell_type": "code",
   "execution_count": 50,
   "metadata": {},
   "outputs": [],
   "source": [
    "Newnode = Node()\n",
    "Newnode.data = '재남'\n",
    "Newnode.link = node2.link\n",
    "node2.link = Newnode"
   ]
  },
  {
   "attachments": {},
   "cell_type": "markdown",
   "metadata": {},
   "source": [
    "### 쯔위 노드삭제"
   ]
  },
  {
   "cell_type": "code",
   "execution_count": 54,
   "metadata": {},
   "outputs": [],
   "source": [
    "Newnode.link = node3.link\n"
   ]
  }
 ],
 "metadata": {
  "kernelspec": {
   "display_name": "Python 3",
   "language": "python",
   "name": "python3"
  },
  "language_info": {
   "codemirror_mode": {
    "name": "ipython",
    "version": 3
   },
   "file_extension": ".py",
   "mimetype": "text/x-python",
   "name": "python",
   "nbconvert_exporter": "python",
   "pygments_lexer": "ipython3",
   "version": "3.11.1"
  },
  "orig_nbformat": 4,
  "vscode": {
   "interpreter": {
    "hash": "a3d8f53f1429d27b792a3789224562ddd32c1395c9a9cfbb17b3c19c3b9a493d"
   }
  }
 },
 "nbformat": 4,
 "nbformat_minor": 2
}
